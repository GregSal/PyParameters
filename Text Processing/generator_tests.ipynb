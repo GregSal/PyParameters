{
 "cells": [
  {
   "cell_type": "markdown",
   "metadata": {},
   "source": [
    "# Generator and Iterator Test / Demo"
   ]
  },
  {
   "cell_type": "markdown",
   "metadata": {},
   "source": [
    "### Imports"
   ]
  },
  {
   "cell_type": "code",
   "execution_count": 1,
   "metadata": {},
   "outputs": [],
   "source": [
    "import collections.abc as collect\n",
    "import inspect\n",
    "from pprint import pprint"
   ]
  },
  {
   "cell_type": "markdown",
   "metadata": {},
   "source": [
    "## Function to Inspect a variable"
   ]
  },
  {
   "cell_type": "code",
   "execution_count": 2,
   "metadata": {},
   "outputs": [],
   "source": [
    "def inspect_var(variable, variable_name):\n",
    "    '''\n",
    "    Provide informayion on variable.\n",
    "    '''\n",
    "    print(f'{variable_name}:\\t{variable} is type:\\t{type(variable)}')\n",
    "    print(f'Is {variable_name} a Sequence?:\\t{isinstance(variable, collect.Sequence)}')\n",
    "    print(f'Is {variable_name} an Iterable?:\\t{isinstance(variable, collect.Iterable)}')\n",
    "    print(f'Is {variable_name} an Iterator?:\\t{isinstance(variable, collect.Iterator)}')\n",
    "    print(f'Is {variable_name} a Generator?:\\t{isinstance(variable, collect.Generator)}')\n",
    "    print(f'Is {variable_name} a Generator?:\\t{inspect.isgenerator(variable)}')\n",
    "    print(f'Is {variable_name} a Generator Function?:\\t{inspect.isgeneratorfunction(variable)}')\n",
    "    if inspect.isgenerator(variable):\n",
    "        print(inspect.getgeneratorstate(variable))"
   ]
  },
  {
   "cell_type": "markdown",
   "metadata": {},
   "source": [
    "## Function to try to advance an iterator or generator\n",
    "## Try to generate an iterator from a variable"
   ]
  },
  {
   "cell_type": "code",
   "execution_count": 3,
   "metadata": {},
   "outputs": [],
   "source": [
    "def advance_iter(variable, variable_name):\n",
    "    '''\n",
    "    Try advancing the variable as an interator.\n",
    "    Try generating an interator from the variable.\n",
    "    '''\n",
    "    iter_var = None\n",
    "    if inspect.isgenerator(variable):\n",
    "        print(inspect.getgeneratorstate(variable))\n",
    "    try:\n",
    "        next_item = variable.__next__()\n",
    "    except:\n",
    "        print(f\"{variable_name} Can't do __next__()\")\n",
    "    else:\n",
    "        print(f\"Next item from {variable_name} is {next_item}\")\n",
    "    if inspect.isgenerator(variable):\n",
    "        print(inspect.getgeneratorstate(variable))\n",
    "    try:\n",
    "        iter_var = variable.__iter__()\n",
    "    except:\n",
    "        print(f\"{variable_name} Can't do __iter__()\")        \n",
    "    else:\n",
    "        print(f\"Can generate Iterable from {variable_name}\")\n",
    "    if inspect.isgenerator(iter_var):\n",
    "        print(inspect.getgeneratorstate(iter_var))\n",
    "    return iter_var"
   ]
  },
  {
   "cell_type": "markdown",
   "metadata": {},
   "source": [
    "## Function to complete an iterator or generator\n",
    "## Try to generate a new iterator from a variable"
   ]
  },
  {
   "cell_type": "code",
   "execution_count": 4,
   "metadata": {},
   "outputs": [],
   "source": [
    "def finish_iter(variable, variable_name):\n",
    "    '''\n",
    "    Run through remainder of iterator.\n",
    "    '''\n",
    "    print(f'Remainder of iterable {variable_name}:')\n",
    "    print('\\t' + str([i for i in variable]))\n",
    "    if inspect.isgenerator(variable):\n",
    "        print(inspect.getgeneratorstate(variable))\n",
    "    print('Done\\n')"
   ]
  },
  {
   "cell_type": "markdown",
   "metadata": {},
   "source": [
    "# Test Different variable types"
   ]
  },
  {
   "cell_type": "markdown",
   "metadata": {},
   "source": [
    "### Basic List\n",
    "<code>basic_list = [1, 2, 3, 4, 5]</code>"
   ]
  },
  {
   "cell_type": "code",
   "execution_count": 5,
   "metadata": {},
   "outputs": [
    {
     "name": "stdout",
     "output_type": "stream",
     "text": [
      "Basic Range:\t[1, 2, 3, 4, 5] is type:\t<class 'list'>\n",
      "Is Basic Range a Sequence?:\tTrue\n",
      "Is Basic Range an Iterable?:\tTrue\n",
      "Is Basic Range an Iterator?:\tFalse\n",
      "Is Basic Range a Generator?:\tFalse\n",
      "Is Basic Range a Generator?:\tFalse\n",
      "Is Basic Range a Generator Function?:\tFalse\n"
     ]
    }
   ],
   "source": [
    "# Define a list **Sequence***\n",
    "basic_list = [1, 2, 3, 4, 5]\n",
    "name = 'Basic List'\n",
    "inspect_var(basic_list, 'Basic Range')"
   ]
  },
  {
   "cell_type": "markdown",
   "metadata": {},
   "source": [
    "### Simple Range **Generator?**\n",
    "<code>basic_range = range(5)</code>"
   ]
  },
  {
   "cell_type": "code",
   "execution_count": 6,
   "metadata": {},
   "outputs": [
    {
     "name": "stdout",
     "output_type": "stream",
     "text": [
      "Basic Range:\trange(0, 5) is type:\t<class 'range'>\n",
      "Is Basic Range a Sequence?:\tTrue\n",
      "Is Basic Range an Iterable?:\tTrue\n",
      "Is Basic Range an Iterator?:\tFalse\n",
      "Is Basic Range a Generator?:\tFalse\n",
      "Is Basic Range a Generator?:\tFalse\n",
      "Is Basic Range a Generator Function?:\tFalse\n"
     ]
    }
   ],
   "source": [
    "# Define a range\n",
    "basic_range = range(5)\n",
    "inspect_var(basic_range, 'Basic Range')"
   ]
  },
  {
   "cell_type": "markdown",
   "metadata": {},
   "source": [
    "### Simple Generator Function (Has *Yield* instead of *Return*).\n",
    "<code>def f(x):</code>\n",
    "... \n",
    "<code>yield y</code>"
   ]
  },
  {
   "cell_type": "code",
   "execution_count": 7,
   "metadata": {},
   "outputs": [
    {
     "name": "stdout",
     "output_type": "stream",
     "text": [
      "Generator Function:\t<function func_gen at 0x000001A4BB6388B8> is type:\t<class 'function'>\n",
      "Is Generator Function a Sequence?:\tFalse\n",
      "Is Generator Function an Iterable?:\tFalse\n",
      "Is Generator Function an Iterator?:\tFalse\n",
      "Is Generator Function a Generator?:\tFalse\n",
      "Is Generator Function a Generator?:\tFalse\n",
      "Is Generator Function a Generator Function?:\tTrue\n"
     ]
    }
   ],
   "source": [
    "def func_gen(seq):\n",
    "    for n in seq:\n",
    "        yield n\n",
    "\n",
    "inspect_var(func_gen, 'Generator Function')"
   ]
  },
  {
   "cell_type": "markdown",
   "metadata": {},
   "source": [
    "### Generator Instance *Iterator*. (Calls *Generator Function*)\n",
    "<code>instance = f(sequence)</code>"
   ]
  },
  {
   "cell_type": "code",
   "execution_count": 8,
   "metadata": {},
   "outputs": [
    {
     "name": "stdout",
     "output_type": "stream",
     "text": [
      "Generator Function Instance:\t<generator object func_gen at 0x000001A4BB604848> is type:\t<class 'generator'>\n",
      "Is Generator Function Instance a Sequence?:\tFalse\n",
      "Is Generator Function Instance an Iterable?:\tTrue\n",
      "Is Generator Function Instance an Iterator?:\tTrue\n",
      "Is Generator Function Instance a Generator?:\tTrue\n",
      "Is Generator Function Instance a Generator?:\tTrue\n",
      "Is Generator Function Instance a Generator Function?:\tFalse\n",
      "GEN_CREATED\n"
     ]
    }
   ],
   "source": [
    "instance_gen = func_gen(basic_range)\n",
    "inspect_var(instance_gen, 'Generator Function Instance')"
   ]
  },
  {
   "cell_type": "markdown",
   "metadata": {},
   "source": [
    "### Function that returns a Generator. (Has *Return* instead of *Yield*).\n",
    "<code>def f(x):</code>\n",
    "... \n",
    "<code>return (i for i in y)</code>"
   ]
  },
  {
   "cell_type": "code",
   "execution_count": 9,
   "metadata": {},
   "outputs": [
    {
     "name": "stdout",
     "output_type": "stream",
     "text": [
      "Generator Function:\t<function ret_gen at 0x000001A4BB605708> is type:\t<class 'function'>\n",
      "Is Generator Function a Sequence?:\tFalse\n",
      "Is Generator Function an Iterable?:\tFalse\n",
      "Is Generator Function an Iterator?:\tFalse\n",
      "Is Generator Function a Generator?:\tFalse\n",
      "Is Generator Function a Generator?:\tFalse\n",
      "Is Generator Function a Generator Function?:\tFalse\n"
     ]
    }
   ],
   "source": [
    "def ret_gen(seq):\n",
    "    return (n for n in seq)\n",
    "inspect_var(ret_gen, 'Generator Function')"
   ]
  },
  {
   "cell_type": "markdown",
   "metadata": {},
   "source": [
    "# Apply Iterator / Generator"
   ]
  },
  {
   "cell_type": "markdown",
   "metadata": {},
   "source": [
    "## Basic List\n",
    "<code>basic_list = [1, 2, 3, 4, 5]</code>"
   ]
  },
  {
   "cell_type": "code",
   "execution_count": 10,
   "metadata": {},
   "outputs": [
    {
     "name": "stdout",
     "output_type": "stream",
     "text": [
      "Basic Range Can't do __next__()\n",
      "Can generate Iterable from Basic Range\n"
     ]
    }
   ],
   "source": [
    "iter_var = advance_iter(basic_list, 'Basic Range')"
   ]
  },
  {
   "cell_type": "markdown",
   "metadata": {},
   "source": [
    "### Simple Generator Function (Has *Yield* instead of *Return*).\n",
    "<code>def f(x):</code>\n",
    "... \n",
    "<code>yield y</code>"
   ]
  },
  {
   "cell_type": "code",
   "execution_count": 11,
   "metadata": {},
   "outputs": [
    {
     "name": "stdout",
     "output_type": "stream",
     "text": [
      "Generator Function Can't do __next__()\n",
      "Generator Function Can't do __iter__()\n"
     ]
    }
   ],
   "source": [
    "def func_gen(seq):\n",
    "    for n in seq:\n",
    "        yield n\n",
    "\n",
    "iter_var = advance_iter(func_gen, 'Generator Function')"
   ]
  },
  {
   "cell_type": "markdown",
   "metadata": {},
   "source": [
    "### Generator Instance *Iterator*. (Calls *Generator Function*)\n",
    "<code>instance = f(sequence)</code>"
   ]
  },
  {
   "cell_type": "code",
   "execution_count": 12,
   "metadata": {},
   "outputs": [
    {
     "name": "stdout",
     "output_type": "stream",
     "text": [
      "GEN_CREATED\n",
      "Next item from Generator Function Instance is 0\n",
      "GEN_SUSPENDED\n",
      "Can generate Iterable from Generator Function Instance\n",
      "GEN_SUSPENDED\n"
     ]
    }
   ],
   "source": [
    "instance_gen = func_gen(basic_range)\n",
    "iter_var = advance_iter(instance_gen, 'Generator Function Instance')"
   ]
  },
  {
   "cell_type": "code",
   "execution_count": 13,
   "metadata": {},
   "outputs": [
    {
     "name": "stdout",
     "output_type": "stream",
     "text": [
      "Generator Function:\t<function ret_gen at 0x000001A4BB638678> is type:\t<class 'function'>\n",
      "Is Generator Function a Sequence?:\tFalse\n",
      "Is Generator Function an Iterable?:\tFalse\n",
      "Is Generator Function an Iterator?:\tFalse\n",
      "Is Generator Function a Generator?:\tFalse\n",
      "Is Generator Function a Generator?:\tFalse\n",
      "Is Generator Function a Generator Function?:\tFalse\n"
     ]
    }
   ],
   "source": [
    "def ret_gen(seq):\n",
    "    return (n for n in seq)\n",
    "inspect_var(ret_gen, 'Generator Function')"
   ]
  },
  {
   "cell_type": "code",
   "execution_count": 14,
   "metadata": {},
   "outputs": [
    {
     "name": "stdout",
     "output_type": "stream",
     "text": [
      "GEN_SUSPENDED\n",
      "Next item from Iterator from active iterator is 1\n",
      "GEN_SUSPENDED\n",
      "Can generate Iterable from Iterator from active iterator\n",
      "GEN_SUSPENDED\n",
      "Remainder of iterable Iterator from active iterator:\n",
      "\t[2, 3, 4]\n",
      "GEN_CLOSED\n",
      "Done\n",
      "\n",
      "GEN_CLOSED\n",
      "Iterator from active iterator Can't do __next__()\n",
      "GEN_CLOSED\n",
      "Can generate Iterable from Iterator from active iterator\n",
      "GEN_CLOSED\n",
      "Iterator from active iterator Can't do __next__()\n",
      "Iterator from active iterator Can't do __iter__()\n"
     ]
    }
   ],
   "source": [
    "iter_var2 = iter(iter_var)\n",
    "iter_var = advance_iter(iter_var2, 'Iterator from active iterator')\n",
    "iter_var3 = finish_iter(iter_var2, 'Iterator from active iterator')\n",
    "iter_var = advance_iter(iter_var2, 'Iterator from active iterator')\n",
    "iter_var = advance_iter(iter_var3, 'Iterator from active iterator')"
   ]
  },
  {
   "cell_type": "markdown",
   "metadata": {},
   "source": [
    "## Apply iter to items\n",
    "### Basic List\n",
    "<code>\n",
    "    basic_list = [1, 2, 3, 4, 5]\n",
    "    list_iter = iter(basic_list)\n",
    "</code>"
   ]
  },
  {
   "cell_type": "code",
   "execution_count": 15,
   "metadata": {},
   "outputs": [
    {
     "name": "stdout",
     "output_type": "stream",
     "text": [
      "Iterator from List:\t<list_iterator object at 0x000001A4BB505BC8> is type:\t<class 'list_iterator'>\n",
      "Is Iterator from List a Sequence?:\tFalse\n",
      "Is Iterator from List an Iterable?:\tTrue\n",
      "Is Iterator from List an Iterator?:\tTrue\n",
      "Is Iterator from List a Generator?:\tFalse\n",
      "Is Iterator from List a Generator?:\tFalse\n",
      "Is Iterator from List a Generator Function?:\tFalse\n",
      "Iterator from List is not a generator\n",
      "Remainder of iterable Iterator from List:\n",
      "\t[2, 3, 4, 5]\n",
      "Done\n",
      "\n"
     ]
    }
   ],
   "source": [
    "basic_list = [1, 2, 3, 4, 5]\n",
    "list_iter = iter(basic_list)\n",
    "variable_name = 'Iterator from List'\n",
    "\n",
    "inspect_var(list_iter, variable_name)\n",
    "list_iter.__next__()\n",
    "if inspect.isgenerator(list_iter):\n",
    "    print(inspect.getgeneratorstate(list_iter))\n",
    "else:\n",
    "    print(f'{variable_name} is not a generator')\n",
    "finish_iter(list_iter, variable_name)"
   ]
  },
  {
   "cell_type": "markdown",
   "metadata": {},
   "source": [
    "### Generator\n",
    "<code>\n",
    "    basic_list = [1, 2, 3, 4, 5]\n",
    "    list_gen = (i for i in basic_list)\n",
    "    list_iter = iter(list_gen)\n",
    "</code>"
   ]
  },
  {
   "cell_type": "code",
   "execution_count": 16,
   "metadata": {},
   "outputs": [
    {
     "name": "stdout",
     "output_type": "stream",
     "text": [
      "Iterator from Generator from List:\t<generator object <genexpr> at 0x000001A4BB63F948> is type:\t<class 'generator'>\n",
      "Is Iterator from Generator from List a Sequence?:\tFalse\n",
      "Is Iterator from Generator from List an Iterable?:\tTrue\n",
      "Is Iterator from Generator from List an Iterator?:\tTrue\n",
      "Is Iterator from Generator from List a Generator?:\tTrue\n",
      "Is Iterator from Generator from List a Generator?:\tTrue\n",
      "Is Iterator from Generator from List a Generator Function?:\tFalse\n",
      "GEN_CREATED\n",
      "GEN_SUSPENDED\n",
      "Remainder of iterable Iterator from Generator from List:\n",
      "\t[2, 3, 4, 5]\n",
      "GEN_CLOSED\n",
      "Done\n",
      "\n"
     ]
    }
   ],
   "source": [
    "basic_list = [1, 2, 3, 4, 5]\n",
    "list_gen = (i for i in basic_list)\n",
    "list_iter = iter(list_gen)\n",
    "variable_name = 'Iterator from Generator from List'\n",
    "\n",
    "inspect_var(list_iter, variable_name)\n",
    "list_iter.__next__()\n",
    "if inspect.isgenerator(list_iter):\n",
    "    print(inspect.getgeneratorstate(list_iter))\n",
    "else:\n",
    "    print(f'{variable_name} is not a generator')\n",
    "finish_iter(list_iter, variable_name)"
   ]
  },
  {
   "cell_type": "markdown",
   "metadata": {},
   "source": [
    "### Generator Function\n",
    "<code>\n",
    "def func_gen(seq):\n",
    "    for n in seq:\n",
    "        yield n\n",
    "        \n",
    "basic_list = [1, 2, 3, 4, 5]\n",
    "list_gen = func_gen(basic_list)\n",
    "list_iter = iter(list_gen)\n",
    "</code>"
   ]
  },
  {
   "cell_type": "code",
   "execution_count": 17,
   "metadata": {},
   "outputs": [
    {
     "name": "stdout",
     "output_type": "stream",
     "text": [
      "Iterator from Generator Function from List:\t<generator object func_gen at 0x000001A4BB63FDC8> is type:\t<class 'generator'>\n",
      "Is Iterator from Generator Function from List a Sequence?:\tFalse\n",
      "Is Iterator from Generator Function from List an Iterable?:\tTrue\n",
      "Is Iterator from Generator Function from List an Iterator?:\tTrue\n",
      "Is Iterator from Generator Function from List a Generator?:\tTrue\n",
      "Is Iterator from Generator Function from List a Generator?:\tTrue\n",
      "Is Iterator from Generator Function from List a Generator Function?:\tFalse\n",
      "GEN_CREATED\n",
      "GEN_SUSPENDED\n",
      "Remainder of iterable Iterator from Generator Function from List:\n",
      "\t[2, 3, 4, 5]\n",
      "GEN_CLOSED\n",
      "Done\n",
      "\n"
     ]
    }
   ],
   "source": [
    "def func_gen(seq):\n",
    "    for n in seq:\n",
    "        yield n\n",
    "        \n",
    "basic_list = [1, 2, 3, 4, 5]\n",
    "list_gen = func_gen(basic_list)\n",
    "list_iter = iter(list_gen)\n",
    "variable_name = 'Iterator from Generator Function from List'\n",
    "\n",
    "inspect_var(list_iter, variable_name)\n",
    "list_iter.__next__()\n",
    "if inspect.isgenerator(list_iter):\n",
    "    print(inspect.getgeneratorstate(list_iter))\n",
    "else:\n",
    "    print(f'{variable_name} is not a generator')\n",
    "finish_iter(list_iter, variable_name)"
   ]
  },
  {
   "cell_type": "markdown",
   "metadata": {},
   "source": [
    "### Generator Function\n",
    "<code>\n",
    "def func_gen(seq):\n",
    "    for n in seq:\n",
    "        yield n\n",
    "        \n",
    "basic_list = [1, 2, 3, 4, 5]\n",
    "list_gen = func_gen(basic_list)\n",
    "list_iter = iter(list_gen)\n",
    "list_iter2 = iter(list_iter)\n",
    "</code>"
   ]
  },
  {
   "cell_type": "code",
   "execution_count": 18,
   "metadata": {},
   "outputs": [
    {
     "name": "stdout",
     "output_type": "stream",
     "text": [
      "Iterator from Generator Function from List:\t<generator object func_gen at 0x000001A4BB64F0C8> is type:\t<class 'generator'>\n",
      "Is Iterator from Generator Function from List a Sequence?:\tFalse\n",
      "Is Iterator from Generator Function from List an Iterable?:\tTrue\n",
      "Is Iterator from Generator Function from List an Iterator?:\tTrue\n",
      "Is Iterator from Generator Function from List a Generator?:\tTrue\n",
      "Is Iterator from Generator Function from List a Generator?:\tTrue\n",
      "Is Iterator from Generator Function from List a Generator Function?:\tFalse\n",
      "GEN_CREATED\n",
      "GEN_SUSPENDED\n",
      "Remainder of iterable Iterator from Generator Function from List:\n",
      "\t[2, 3, 4, 5]\n",
      "GEN_CLOSED\n",
      "Done\n",
      "\n"
     ]
    }
   ],
   "source": [
    "def func_gen(seq):\n",
    "    for n in seq:\n",
    "        yield n\n",
    "        \n",
    "basic_list = [1, 2, 3, 4, 5]\n",
    "list_gen = func_gen(basic_list)\n",
    "list_iter = iter(list_gen)\n",
    "list_iter2 = iter(list_iter)\n",
    "variable_name = 'Iterator from Generator Function from List'\n",
    "\n",
    "inspect_var(list_iter2, variable_name)\n",
    "list_iter.__next__()\n",
    "if inspect.isgenerator(list_iter2):\n",
    "    print(inspect.getgeneratorstate(list_iter2))\n",
    "else:\n",
    "    print(f'{variable_name} is not a generator')\n",
    "finish_iter(list_iter2, variable_name)"
   ]
  },
  {
   "cell_type": "raw",
   "metadata": {},
   "source": [
    "### Basic List Iter Twice\n",
    "<code>\n",
    "    basic_list = [1, 2, 3, 4, 5]\n",
    "    list_iter = iter(basic_list)\n",
    "    list_iter2 = iter(list_iter)\n",
    "</code>"
   ]
  },
  {
   "cell_type": "code",
   "execution_count": 20,
   "metadata": {},
   "outputs": [
    {
     "name": "stdout",
     "output_type": "stream",
     "text": [
      "Iterator from Iterator from List:\t<list_iterator object at 0x000001A4BB641188> is type:\t<class 'list_iterator'>\n",
      "Is Iterator from Iterator from List a Sequence?:\tFalse\n",
      "Is Iterator from Iterator from List an Iterable?:\tTrue\n",
      "Is Iterator from Iterator from List an Iterator?:\tTrue\n",
      "Is Iterator from Iterator from List a Generator?:\tFalse\n",
      "Is Iterator from Iterator from List a Generator?:\tFalse\n",
      "Is Iterator from Iterator from List a Generator Function?:\tFalse\n",
      "Iterator from Iterator from List is not a generator\n",
      "Remainder of iterable Iterator from Iterator from List:\n",
      "\t[2, 3, 4, 5]\n",
      "Done\n",
      "\n"
     ]
    }
   ],
   "source": [
    "basic_list = [1, 2, 3, 4, 5]\n",
    "list_iter = iter(basic_list)\n",
    "list_iter2 = iter(list_iter)\n",
    "variable_name = 'Iterator from Iterator from List'\n",
    "\n",
    "inspect_var(list_iter2, variable_name)\n",
    "list_iter2.__next__()\n",
    "if inspect.isgenerator(list_iter2):\n",
    "    print(inspect.getgeneratorstate(list_iter2))\n",
    "else:\n",
    "    print(f'{variable_name} is not a generator')\n",
    "finish_iter(list_iter2, variable_name)"
   ]
  },
  {
   "cell_type": "code",
   "execution_count": null,
   "metadata": {},
   "outputs": [],
   "source": []
  }
 ],
 "metadata": {
  "kernelspec": {
   "display_name": "Python 3",
   "language": "python",
   "name": "python3"
  },
  "language_info": {
   "codemirror_mode": {
    "name": "ipython",
    "version": 3
   },
   "file_extension": ".py",
   "mimetype": "text/x-python",
   "name": "python",
   "nbconvert_exporter": "python",
   "pygments_lexer": "ipython3",
   "version": "3.7.6"
  }
 },
 "nbformat": 4,
 "nbformat_minor": 4
}
