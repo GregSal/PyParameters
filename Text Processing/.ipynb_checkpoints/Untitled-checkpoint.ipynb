{
 "cells": [
  {
   "cell_type": "code",
   "execution_count": 55,
   "metadata": {},
   "outputs": [],
   "source": [
    "from inspect import isgenerator, isgeneratorfunction\n",
    "from collections.abc import Iterable, Iterator, Generator, Sequence\n",
    "import inspect\n",
    "from pprint import pprint\n",
    "\n",
    "def inspect_var(variable, variable_name):\n",
    "    iter = None\n",
    "    print(f'{variable_name}:\\t{variable}')\n",
    "    print(f'Is {variable_name} a Sequence?:\\t{isinstance(variable, Sequence)}')\n",
    "    print(f'Is {variable_name} an Iterable?:\\t{isinstance(variable, Iterable)}')\n",
    "    print(f'Is {variable_name} an Iterator?:\\t{isinstance(variable, Iterator)}')\n",
    "    print(f'Is {variable_name} a Generator?:\\t{isinstance(variable, Generator)}')\n",
    "    print(f'Is {variable_name} a Generator?:\\t{isgenerator(variable)}')\n",
    "    print(f'Is {variable_name} a Generator Function?:\\t{isgeneratorfunction(variable)}')\n",
    "    if isgenerator(variable):\n",
    "        print(inspect.getgeneratorstate(variable))\n",
    "    try:\n",
    "        next_item = variable.__next__()\n",
    "    except:\n",
    "        print(f\"{variable_name} Can't do __next__()\")\n",
    "    else:\n",
    "        print(f\"Next item from {variable_name} is {next_item}\")\n",
    "    try:\n",
    "        iter = variable.__iter__()\n",
    "    except:\n",
    "        print(f\"{variable_name} Can't do __iter__()\")\n",
    "    else:\n",
    "        print(f\"Can generate Iterable from {variable_name}\")\n",
    "    return iter\n",
    "\n",
    "\n",
    "def finish_iter_var(variable, variable_name):\n",
    "    iter = None\n",
    "    print(f'Remainder of iterable {variable_name}:')\n",
    "    print('\\t' + str([i for i in variable]))\n",
    "    if isgenerator(variable):\n",
    "        print(inspect.getgeneratorstate(variable))\n",
    "    try:\n",
    "        next_item = variable.__next__()\n",
    "    except:\n",
    "        print(f\"{variable_name} Can't do __next__()\")\n",
    "    else:\n",
    "        print(f\"Next item from {variable_name} is {next_item}\")\n",
    "    try:\n",
    "        iter = variable.__iter__()\n",
    "    except:\n",
    "        print(f\"{variable_name} Can't do __iter__()\")        \n",
    "    else:\n",
    "        print(f\"Can generate Iterable from {variable_name}\")\n",
    "    return iter"
   ]
  },
  {
   "cell_type": "code",
   "execution_count": 56,
   "metadata": {},
   "outputs": [],
   "source": [
    "# Define a list\n",
    "basic_list = [1, 2, 3, 4, 5]\n",
    "iter = inspect_var(basic_range, 'Basic Range')\n",
    "if iter:\n",
    "    iter = finish_iter_var(iter, 'Basic Range')"
   ]
  },
  {
   "cell_type": "code",
   "execution_count": 57,
   "metadata": {},
   "outputs": [
    {
     "name": "stdout",
     "output_type": "stream",
     "text": [
      "Basic Range:\trange(0, 5)\n",
      "Is Basic Range a Sequence?:\tTrue\n",
      "Is Basic Range an Iterable?:\tTrue\n",
      "Is Basic Range an Iterator?:\tFalse\n",
      "Is Basic Range a Generator?:\tFalse\n",
      "Is Basic Range a Generator?:\tFalse\n",
      "Is Basic Range a Generator Function?:\tFalse\n",
      "Basic Range Can't do __next__()\n",
      "Can generate Iterable from Basic Range\n",
      "<range_iterator object at 0x00000151FCA399D0>\n",
      "Remainder of iterable Basic Range:\n",
      "\t[0, 1, 2, 3, 4]\n",
      "Basic Range Can't do __next__()\n",
      "Can generate Iterable from Basic Range\n"
     ]
    }
   ],
   "source": [
    "# Define a range\n",
    "basic_range = range(5)\n",
    "iter = inspect_var(basic_range, 'Basic Range')\n",
    "if iter:\n",
    "    iter = finish_iter_var(iter, 'Basic Range')"
   ]
  },
  {
   "cell_type": "code",
   "execution_count": 42,
   "metadata": {},
   "outputs": [
    {
     "name": "stdout",
     "output_type": "stream",
     "text": [
      "Generator from List:\t<generator object <genexpr> at 0x00000151FCAD2248>\n",
      "Is Generator from List a Sequence?:\tFalse\n",
      "Is Generator from List an Iterable?:\tTrue\n",
      "Is Generator from List an Iterator?:\tTrue\n",
      "Is Generator from List a Generator?:\tTrue\n",
      "Is Generator from List a Generator?:\tTrue\n",
      "Is Generator from List a Generator Function?:\tFalse\n",
      "GEN_CREATED\n",
      "Next item from Generator from List is 1\n",
      "Can generate Iterable from Generator from List\n"
     ]
    }
   ],
   "source": [
    "list_gen = (i for i in basic_list)\n",
    "iter = inspect_var(list_gen, 'Generator from List')\n"
   ]
  },
  {
   "cell_type": "code",
   "execution_count": 43,
   "metadata": {},
   "outputs": [
    {
     "name": "stdout",
     "output_type": "stream",
     "text": [
      "Iterator from Generator from List:\t<generator object <genexpr> at 0x00000151FCAD2248>\n",
      "Is Iterator from Generator from List a Sequence?:\tFalse\n",
      "Is Iterator from Generator from List an Iterable?:\tTrue\n",
      "Is Iterator from Generator from List an Iterator?:\tTrue\n",
      "Is Iterator from Generator from List a Generator?:\tTrue\n",
      "Is Iterator from Generator from List a Generator?:\tTrue\n",
      "Is Iterator from Generator from List a Generator Function?:\tFalse\n",
      "GEN_SUSPENDED\n",
      "Next item from Iterator from Generator from List is 2\n",
      "Can generate Iterable from Iterator from Generator from List\n",
      "Remainder of iterable Generator from List:\n",
      "\t[4, 5]\n",
      "GEN_CLOSED\n",
      "Generator from List Can't do __next__()\n",
      "Can generate Iterable from Generator from List\n"
     ]
    }
   ],
   "source": [
    "list_iter = iter(list_gen)\n",
    "inspect_var(list_iter, 'Iterator from Generator from List')\n",
    "list_iter.__next__()\n",
    "inspect.getgeneratorstate(list_iter)\n",
    "finish_iter_var(list_gen, 'Generator from List')"
   ]
  },
  {
   "cell_type": "code",
   "execution_count": 33,
   "metadata": {},
   "outputs": [
    {
     "name": "stdout",
     "output_type": "stream",
     "text": [
      "[4, 5]\n"
     ]
    },
    {
     "data": {
      "text/plain": [
       "'GEN_CLOSED'"
      ]
     },
     "execution_count": 33,
     "metadata": {},
     "output_type": "execute_result"
    }
   ],
   "source": [
    "print([i for i in list_iter])\n",
    "inspect.getgeneratorstate(list_iter)"
   ]
  },
  {
   "cell_type": "code",
   "execution_count": null,
   "metadata": {},
   "outputs": [],
   "source": [
    "def a_gen(seq):\n",
    "    for n in seq:\n",
    "        yield n\n",
    "\n",
    "def b_gen(seq):\n",
    "    return (n for n in seq)\n",
    "\n",
    "seq = range(5)\n",
    "a = a_gen(seq)\n",
    "print(a)\n",
    "b = b_gen(seq)\n",
    "print(b)\n",
    "print(b.__next__())\n",
    "print(a.__next__())\n",
    "pprint(inspect.getmembers(a))\n",
    "\n",
    "print(isgenerator(a_gen))\n",
    "print(isgeneratorfunction(a_gen))\n",
    "\n",
    "print(isgenerator(b_gen))\n",
    "print(isgeneratorfunction(b_gen))\n",
    "\n",
    "print(isgenerator(a))\n",
    "print(isgenerator(b))\n",
    "print(isgeneratorfunction(a))\n",
    "print(isgeneratorfunction(b))\n",
    "inspect.getgeneratorstate(a)\n",
    "hasattr(a,'__next__')\n",
    "hasattr(a,'__iter__')\n",
    "try:\n",
    "    a_gen.__next__()\n",
    "except:\n",
    "    print('cant do next')\n"
   ]
  }
 ],
 "metadata": {
  "kernelspec": {
   "display_name": "Python 3",
   "language": "python",
   "name": "python3"
  },
  "language_info": {
   "codemirror_mode": {
    "name": "ipython",
    "version": 3
   },
   "file_extension": ".py",
   "mimetype": "text/x-python",
   "name": "python",
   "nbconvert_exporter": "python",
   "pygments_lexer": "ipython3",
   "version": "3.7.6"
  }
 },
 "nbformat": 4,
 "nbformat_minor": 4
}
